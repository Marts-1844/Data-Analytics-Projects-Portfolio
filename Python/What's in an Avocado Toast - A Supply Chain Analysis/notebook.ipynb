{
 "cells": [
  {
   "cell_type": "markdown",
   "id": "32ec92a0-c21a-45b8-ac63-9f9c698a1291",
   "metadata": {},
   "source": [
    "# What's in an Avocado Toast: A Supply Chain Analysis\n",
    "\n",
    "You're in London, making an avocado toast, a quick-to-make dish that has soared in popularity on breakfast menus since the 2010s. A simple smashed avocado toast can be made with five ingredients: one ripe avocado, half a lemon, a big pinch of salt flakes, two slices of sourdough bread and a good drizzle of extra virgin olive oil. It's no small feat that most of these ingredients are readily available in grocery stores. \n",
    "\n",
    "In this project, you'll conduct a supply chain analysis of three of these ingredients used in an avocado toast, utilizing the Open Food Facts database. This database contains extensive, openly-sourced information on various foods, including their origins. Through this analysis, you will gain an in-depth understanding of the complex supply chain involved in producing a single dish.\n",
    "\n",
    "Three pairs of files are provided in the data folder:\n",
    "- A CSV file for each ingredient, such as `avocado.csv`, with data about each food item and countries of origin\n",
    "- A TXT file for each ingredient, such as `relevant_avocado_categories`, containing only the category tags of interest for that food.\n",
    "\n",
    "Here are some other key points about these files:\n",
    "- Some of the rows of data in each of the three CSV files do not contain relevant data for your investigation. In each dataset, you will need to filter out rows with irrelevant data, based on values in the `categories_tags` column. Examples of categories are, fruits, vegetables, and fruit-based oils. Filter the DataFrame to include only rows where `categories_tags` contains one of the tags in the relevant categories for that ingredient.\n",
    "- Each row of data usually has multiple categories tags in the `categories_tags` column.\n",
    "- There is a column in each CSV file called `origins_tags` with strings for country of origin of that item.\n",
    "\n",
    "After completing this project, you'll be armed with a list of ingredients and their countries of origin, and be well-positioned to launch into other analyses that explore how long, on average, these ingredients spend at sea.\n",
    "\n",
    "![](avocado_wallpaper.jpeg)"
   ]
  },
  {
   "cell_type": "markdown",
   "id": "952ca016-9b11-4c70-b98a-f5b3ba9856e1",
   "metadata": {},
   "source": [
    "## Avocado Data"
   ]
  },
  {
   "cell_type": "code",
   "execution_count": 1,
   "id": "95870cf7-b34c-4589-b9bc-da4a45f48a09",
   "metadata": {
    "executionCancelledAt": null,
    "executionTime": 51,
    "lastExecutedAt": 1702021932852,
    "lastScheduledRunId": null,
    "lastSuccessfullyExecutedCode": "import pandas as pd",
    "outputsMetadata": {
     "0": {
      "height": 114,
      "type": "dataFrame"
     }
    }
   },
   "outputs": [],
   "source": [
    "import pandas as pd"
   ]
  },
  {
   "cell_type": "code",
   "execution_count": 2,
   "id": "9ae0a25e-f4b3-49b7-a41c-5f8d966ea5ab",
   "metadata": {
    "executionCancelledAt": null,
    "executionTime": 52,
    "lastExecutedAt": 1702021932904,
    "lastScheduledRunId": null,
    "lastSuccessfullyExecutedCode": "# Read in the CSV data for avocado (tab-delimited)\nkeep_columns = ['code', 'lc', 'product_name_en', 'quantity', 'serving_size', 'packaging_tags', 'brands', 'brands_tags', 'categories_tags', 'labels_tags', 'countries', 'countries_tags', 'origins','origins_tags']\n\navc = pd.read_csv('data/avocado.csv', delimiter='\\t')\navc = avc[keep_columns]"
   },
   "outputs": [],
   "source": [
    "# Read in the CSV data for avocado (tab-delimited)\n",
    "keep_columns = ['code', 'lc', 'product_name_en', 'quantity', 'serving_size', 'packaging_tags', 'brands', 'brands_tags', 'categories_tags', 'labels_tags', 'countries', 'countries_tags', 'origins','origins_tags']\n",
    "\n",
    "avc = pd.read_csv('data/avocado.csv', delimiter='\\t')\n",
    "avc = avc[keep_columns]"
   ]
  },
  {
   "cell_type": "code",
   "execution_count": 3,
   "id": "c8799a11-7e44-4dc6-ba20-9004fe28334e",
   "metadata": {
    "executionCancelledAt": null,
    "executionTime": 53,
    "lastExecutedAt": 1702021932957,
    "lastScheduledRunId": null,
    "lastSuccessfullyExecutedCode": "# Read TXT file for relevant category tags of avocado\nwith open('data/relevant_avocado_categories.txt', \"r\") as file:    # \"r\" is read mode\n    relevant_avocado_categories = file.read().splitlines()\n# Check that the file has been automatically closed\nfile.close()"
   },
   "outputs": [],
   "source": [
    "# Read TXT file for relevant category tags of avocado\n",
    "with open('data/relevant_avocado_categories.txt', \"r\") as file:    # \"r\" is read mode\n",
    "    relevant_avocado_categories = file.read().splitlines()\n",
    "# Check that the file has been automatically closed\n",
    "file.close()"
   ]
  },
  {
   "cell_type": "code",
   "execution_count": 4,
   "id": "ce09c2b6-28e9-47cf-bf33-7eaca2081e2a",
   "metadata": {
    "executionCancelledAt": null,
    "executionTime": 52,
    "lastExecutedAt": 1702021933009,
    "lastScheduledRunId": null,
    "lastSuccessfullyExecutedCode": "# Turning categories_tags (comma separated tags) into a column of lists\navc['categories_tags'] = avc['categories_tags'].str.split(',')",
    "outputsMetadata": {
     "0": {
      "height": 45,
      "type": "dataFrame"
     }
    }
   },
   "outputs": [],
   "source": [
    "# Turning categories_tags (comma separated tags) into a column of lists\n",
    "avc['categories_tags'] = avc['categories_tags'].str.split(',')"
   ]
  },
  {
   "cell_type": "code",
   "execution_count": 5,
   "id": "d434f936-3420-4f9c-b245-8b2c76ab7686",
   "metadata": {
    "executionCancelledAt": null,
    "executionTime": 47,
    "lastExecutedAt": 1702021933056,
    "lastScheduledRunId": null,
    "lastSuccessfullyExecutedCode": "# Dropping rows with null in categories_tags\navc = avc.dropna(subset=['categories_tags'])"
   },
   "outputs": [],
   "source": [
    "# Dropping rows with null in categories_tags\n",
    "avc = avc.dropna(subset=['categories_tags'])"
   ]
  },
  {
   "cell_type": "code",
   "execution_count": 6,
   "id": "0ff25f76-2b88-4b65-bd20-d723015ba793",
   "metadata": {
    "executionCancelledAt": null,
    "executionTime": 55,
    "lastExecutedAt": 1702021933112,
    "lastScheduledRunId": null,
    "lastSuccessfullyExecutedCode": "# Filtering avc based on categories_tags\navc = avc[avc['categories_tags'].apply(lambda x: any([i in x for i in    \\\n                                                     relevant_avocado_categories]))]"
   },
   "outputs": [],
   "source": [
    "# Filtering avc based on categories_tags\n",
    "avc = avc[avc['categories_tags'].apply(lambda x: any([i in x for i in    \\\n",
    "                                                     relevant_avocado_categories]))]"
   ]
  },
  {
   "cell_type": "markdown",
   "id": "212930f1-d038-47aa-bc8e-5b881f27949f",
   "metadata": {},
   "source": [
    "```python\n",
    ">>> [i for i in xif i in relevant_avocado_categories]) is equivalent to the code:\n",
    "filtered_list = []\n",
    "for i in x:\n",
    "    if i in relevant_avocado_categories:\n",
    "        filtered_list.append(i)\n",
    "        \n",
    ">>> any([i for i in x if i in relevant_avocado_categories]) is equivalent to the code:\n",
    "\n",
    "found_any = False\n",
    "for i in x:\n",
    "    if i in relevant_avocado_categories:\n",
    "        found_any = True\n",
    "        break\n",
    "result = any([found_any])\n"
   ]
  },
  {
   "cell_type": "markdown",
   "id": "ab4aa89c-6bb1-4e7c-807b-f5109dfc5041",
   "metadata": {},
   "source": [
    "## Where do most UK avocados come from?"
   ]
  },
  {
   "cell_type": "code",
   "execution_count": 7,
   "id": "9adbc6d3-c0e8-48b4-b1c7-cd966e32295c",
   "metadata": {
    "executionCancelledAt": null,
    "executionTime": 47,
    "lastExecutedAt": 1702021933160,
    "lastScheduledRunId": null,
    "lastSuccessfullyExecutedCode": "# Filtering avc by a country United Kingdom\navocado_origin_uk = avc[avc['countries'] == 'United Kingdom']",
    "outputsMetadata": {
     "0": {
      "height": 333,
      "type": "dataFrame"
     }
    }
   },
   "outputs": [],
   "source": [
    "# Filtering avc by a country United Kingdom\n",
    "avocado_origin_uk = avc[avc['countries'] == 'United Kingdom']"
   ]
  },
  {
   "cell_type": "code",
   "execution_count": 8,
   "id": "8ba79803-b28c-4aca-89ed-2626d5f07414",
   "metadata": {
    "executionCancelledAt": null,
    "executionTime": 47,
    "lastExecutedAt": 1702021933208,
    "lastScheduledRunId": null,
    "lastSuccessfullyExecutedCode": "# Counting and ordering by the unique values in the country of origin column\navocado_origin_uk_count = avocado_origin_uk['origins_tags'].value_counts()\n\n# Get the country with the highest count\ntop_avocado_origin = avocado_origin_uk_count.index[0]"
   },
   "outputs": [],
   "source": [
    "# Counting and ordering by the unique values in the country of origin column\n",
    "avocado_origin_uk_count = avocado_origin_uk['origins_tags'].value_counts()\n",
    "\n",
    "# Get the country with the highest count\n",
    "top_avocado_origin = avocado_origin_uk_count.index[0]"
   ]
  },
  {
   "cell_type": "code",
   "execution_count": 9,
   "id": "dd7fe133-365e-4abf-9d46-cfb45c30e864",
   "metadata": {
    "executionCancelledAt": null,
    "executionTime": 47,
    "lastExecutedAt": 1702021933256,
    "lastScheduledRunId": null,
    "lastSuccessfullyExecutedCode": "# Strip out characters before country name\n# Replace hyphen in country name with a space\ntop_avocado_origin = top_avocado_origin.lstrip(\"en:\").replace('-', ' ')"
   },
   "outputs": [],
   "source": [
    "# Strip out characters before country name\n",
    "# Replace hyphen in country name with a space\n",
    "top_avocado_origin = top_avocado_origin.lstrip(\"en:\").replace('-', ' ')"
   ]
  },
  {
   "cell_type": "code",
   "execution_count": 10,
   "id": "136ea18a-5ec6-47f0-a78f-b8fb2d9559e3",
   "metadata": {
    "executionCancelledAt": null,
    "executionTime": 48,
    "lastExecutedAt": 1702021933305,
    "lastScheduledRunId": null,
    "lastSuccessfullyExecutedCode": "# Print the result\nprint(top_avocado_origin)",
    "outputsMetadata": {
     "0": {
      "height": 37,
      "type": "stream"
     }
    }
   },
   "outputs": [
    {
     "name": "stdout",
     "output_type": "stream",
     "text": [
      "peru\n"
     ]
    }
   ],
   "source": [
    "# Print the result\n",
    "print(top_avocado_origin)"
   ]
  },
  {
   "cell_type": "markdown",
   "id": "972645e1-19bf-47a8-93f0-a346fbdfe1ed",
   "metadata": {},
   "source": [
    "## Create a user-defined function to call for each ingredient\n",
    "\n",
    "Applying the Don't Repeat Yourself (DRY) principle, the analysis code for avocado data has been refactored into a universal function. This function is now adaptable for files of various ingredients, and extra steps have been incorporated to manage ties, a consideration that wasn't needed for avocado data analysis."
   ]
  },
  {
   "cell_type": "code",
   "execution_count": 11,
   "id": "4c1665d9-06c7-45a4-9ce9-355a008ddb8e",
   "metadata": {
    "executionCancelledAt": null,
    "executionTime": 55,
    "lastExecutedAt": 1702021933360,
    "lastScheduledRunId": null,
    "lastSuccessfullyExecutedCode": "# Create a function called read_and_filter_data()\n\ndef read_and_filter_data(filename, string_list):\n    \"\"\"\n    Reads data from a CSV file specified by the filename and filters it based on specified string_list (relevant categories).\n\n    Parameters:\n    - filename (str): A string specifying the path to the CSV file containing ingredient data.\n    - string_list (list of str): A list of strings indicating the criteria to filter the data.\n\n    Returns:\n    - str: A string representing the outcome or result based on the specified criteria.\n    \"\"\"\n    \n    # Read the file\n    df = pd.read_csv(filename, delimiter='\\t')\n    \n    # Subset to just the relevant columns\n    keep_columns = ['code', 'lc', 'product_name_en', 'quantity', 'serving_size', 'packaging_tags', 'brands', 'brands_tags', 'categories_tags', 'labels_tags', 'countries', 'countries_tags', 'origins','origins_tags']\n    df = df[keep_columns]\n    \n    # Turning categories_tags (comma separated tags) into a column of lists\n    df['categories_tags'] = df['categories_tags'].str.split(',')\n    \n    # Dropping rows with null in categories_tags\n    df = df.dropna(subset=['categories_tags'])\n    \n    # Filtering df based on categories_tags\n    df = df[df['categories_tags'].apply(lambda x: any([i in x for i in string_list]))]\n    \n    # Filtering df by country United Kingdom\n    df_origin_uk = df[df['countries'] == 'United Kingdom']\n    \n    # Counting and ordering by the unique values in the country of origin column\n    df_origin_uk_count = df_origin_uk['origins_tags'].value_counts()\n    \n    # Get the country with the highest count\n    df_top_origin_uk = df_origin_uk_count.index[0]\n    \n    # Clean up the country string data\n    df_top_origin_uk = df_top_origin_uk.lstrip(\"en:\").replace('-', ' ')\n    \n    return df_top_origin_uk"
   },
   "outputs": [],
   "source": [
    "# Create a function called read_and_filter_data()\n",
    "\n",
    "def read_and_filter_data(filename, string_list):\n",
    "    \"\"\"\n",
    "    Reads data from a CSV file specified by the filename and filters it based on specified string_list (relevant categories).\n",
    "\n",
    "    Parameters:\n",
    "    - filename (str): A string specifying the path to the CSV file containing ingredient data.\n",
    "    - string_list (list of str): A list of strings indicating the criteria to filter the data.\n",
    "\n",
    "    Returns:\n",
    "    - str: A string representing the outcome or result based on the specified criteria.\n",
    "    \"\"\"\n",
    "    \n",
    "    # Read the file\n",
    "    df = pd.read_csv(filename, delimiter='\\t', low_memory=False)\n",
    "    \n",
    "    # Subset to just the relevant columns\n",
    "    keep_columns = ['code', 'lc', 'product_name_en', 'quantity', 'serving_size', 'packaging_tags', 'brands', 'brands_tags', 'categories_tags', 'labels_tags', 'countries', 'countries_tags', 'origins','origins_tags']\n",
    "    df = df[keep_columns]\n",
    "    \n",
    "    # Turning categories_tags (comma separated tags) into a column of lists\n",
    "    df['categories_tags'] = df['categories_tags'].str.split(',')\n",
    "    \n",
    "    # Dropping rows with null in categories_tags\n",
    "    df = df.dropna(subset=['categories_tags'])\n",
    "    \n",
    "    # Filtering df based on categories_tags\n",
    "    df = df[df['categories_tags'].apply(lambda x: any([i in x for i in string_list]))]\n",
    "    \n",
    "    # Filtering df by country United Kingdom\n",
    "    df_origin_uk = df[df['countries'] == 'United Kingdom']\n",
    "    \n",
    "    # Counting and ordering by the unique values in the country of origin column\n",
    "    df_origin_uk_count = df_origin_uk['origins_tags'].value_counts()\n",
    "    \n",
    "    # Get the country with the highest count\n",
    "    df_top_origin_uk = df_origin_uk_count.index[0]\n",
    "    \n",
    "    # Clean up the country string data\n",
    "    df_top_origin_uk = df_top_origin_uk.lstrip(\"en:\").replace('-', ' ')\n",
    "    \n",
    "    return df_top_origin_uk"
   ]
  },
  {
   "cell_type": "markdown",
   "id": "ed023c89-e147-41cf-8f4e-4428bf2bd93b",
   "metadata": {},
   "source": [
    "## Read relevant categories data file and call function for each ingredient"
   ]
  },
  {
   "cell_type": "markdown",
   "id": "c9044227-7b74-4d4c-8e78-8c21f5d3c0f9",
   "metadata": {},
   "source": [
    "Using the relevant category data and analyzing country origin data. The last two origin (olive oil and sourdough) variables were determined by calling the function created."
   ]
  },
  {
   "cell_type": "markdown",
   "id": "5aa9607d-0190-4dc1-8323-08e5787dcdbd",
   "metadata": {},
   "source": [
    "## Olive Oil Data"
   ]
  },
  {
   "cell_type": "code",
   "execution_count": 12,
   "id": "234da9a8-57bd-4b46-a3f7-0e30654dd01a",
   "metadata": {
    "executionCancelledAt": null,
    "executionTime": 408,
    "lastExecutedAt": 1702021933769,
    "lastScheduledRunId": null,
    "lastSuccessfullyExecutedCode": "# Split categories tags into lists\nwith open('data/relevant_olive_oil_categories.txt', \"r\") as file:\n    relevant_olive_oil_categories = file.read().splitlines()\nfile.close()\n\n# Call the function and assign it as top_olive_oil_origin\ntop_olive_oil_origin = read_and_filter_data('data/olive_oil.csv',  relevant_olive_oil_categories)\n\n# Print the result\nprint(top_olive_oil_origin)",
    "outputsMetadata": {
     "0": {
      "height": 37,
      "type": "stream"
     }
    }
   },
   "outputs": [
    {
     "name": "stdout",
     "output_type": "stream",
     "text": [
      "greece\n"
     ]
    }
   ],
   "source": [
    "# Split categories tags into lists\n",
    "with open('data/relevant_olive_oil_categories.txt', \"r\", encoding=\"utf-8\") as file:\n",
    "    relevant_olive_oil_categories = file.read().splitlines()\n",
    "file.close()\n",
    "\n",
    "# Call the function and assign it as top_olive_oil_origin\n",
    "top_olive_oil_origin = read_and_filter_data('data/olive_oil.csv',  relevant_olive_oil_categories)\n",
    "\n",
    "# Print the result\n",
    "print(top_olive_oil_origin)"
   ]
  },
  {
   "cell_type": "markdown",
   "id": "ed98064c-4810-4a23-a4f1-88a9fbe0196e",
   "metadata": {},
   "source": [
    "## Sourdough Data"
   ]
  },
  {
   "cell_type": "code",
   "execution_count": 13,
   "id": "323488d9-cede-4c4b-a26d-9b34df09319d",
   "metadata": {
    "executionCancelledAt": null,
    "executionTime": 51,
    "lastExecutedAt": 1702021933820,
    "lastScheduledRunId": null,
    "lastSuccessfullyExecutedCode": "# Split categories tags into lists\nwith open('data/relevant_sourdough_categories.txt', \"r\") as file:\n    relevant_olive_oil_categories = file.read().splitlines()\nfile.close()\n\n# Call the function and assign it as top_olive_oil_origin\ntop_olive_oil_origin = read_and_filter_data('data/sourdough.csv',  relevant_olive_oil_categories)\n\n# Print the result\nprint(top_olive_oil_origin)",
    "outputsMetadata": {
     "0": {
      "height": 37,
      "type": "stream"
     }
    }
   },
   "outputs": [
    {
     "name": "stdout",
     "output_type": "stream",
     "text": [
      "united kingdom\n"
     ]
    }
   ],
   "source": [
    "# Split categories tags into lists\n",
    "with open('data/relevant_sourdough_categories.txt', \"r\", encoding=\"utf-8\") as file:\n",
    "    relevant_olive_oil_categories = file.read().splitlines()\n",
    "file.close()\n",
    "\n",
    "# Call the function and assign it as top_olive_oil_origin\n",
    "top_olive_oil_origin = read_and_filter_data('data/sourdough.csv',  relevant_olive_oil_categories)\n",
    "\n",
    "# Print the result\n",
    "print(top_olive_oil_origin)"
   ]
  }
 ],
 "metadata": {
  "colab": {
   "name": "Welcome to DataCamp Workspaces.ipynb",
   "provenance": []
  },
  "kernelspec": {
   "display_name": "Python 3 (ipykernel)",
   "language": "python",
   "name": "python3"
  },
  "language_info": {
   "codemirror_mode": {
    "name": "ipython",
    "version": 3
   },
   "file_extension": ".py",
   "mimetype": "text/x-python",
   "name": "python",
   "nbconvert_exporter": "python",
   "pygments_lexer": "ipython3",
   "version": "3.11.5"
  }
 },
 "nbformat": 4,
 "nbformat_minor": 5
}
