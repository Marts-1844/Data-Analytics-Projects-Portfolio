{
 "cells": [
  {
   "cell_type": "markdown",
   "id": "59090772-03e5-4a43-a7c7-eebdfa709342",
   "metadata": {},
   "source": [
    "# Hypothesis Testing in Healthcare: Drug Safety\n",
    "\n",
    "A pharmaceutical company GlobalXYZ has just completed a randomized controlled drug trial. To promote transparency and reproducibility of the drug's outcome, they (GlobalXYZ) have presented the dataset to your organization, a non-profit that focuses primarily on drug safety.\n",
    "\n",
    "The dataset provided contained five adverse effects, demographic data, vital signs, etc. Your organization is primarily interested in the drug's adverse reactions. It wants to know if the adverse reactions, if any, are of significant proportions. It has asked you to explore and answer some questions from the data.\n",
    "\n",
    "The dataset `drug_safety.csv` was obtained from [Hbiostat](https://hbiostat.org/data/) courtesy of the Vanderbilt University Department of Biostatistics. It contained five adverse effects: headache, abdominal pain, dyspepsia, upper respiratory infection, chronic obstructive airway disease (COAD), demographic data, vital signs, lab measures, etc. The ratio of drug observations to placebo observations is 2 to 1.\n",
    "\n",
    "For this project, the dataset has been modified to reflect the presence and absence of adverse effects `adverse_effects` and the number of adverse effects in a single individual `num_effects`.\n",
    "\n",
    "The columns in the modified dataset are: \n",
    "\n",
    "| Column | Description |\n",
    "|--------|-------------|\n",
    "|`sex` | The gender of the individual |\n",
    "|`age` | The age of the individual |\n",
    "|`week` | The week of the drug testing |\n",
    "|`trx` | The treatment (Drug) and control (Placebo) groups | \n",
    "|`wbc` | The count of white blood cells |\n",
    "|`rbc` | The count of red blood cells |\n",
    "|`adverse_effects` | The presence of at least a single adverse effect |\n",
    "|`num_effects` | The number of adverse effects experienced by a single individual |\n",
    "\n",
    "The original dataset can be found [here](https://hbiostat.org/data/repo/safety.rda).\n",
    "\n",
    "Your organization has asked you to explore and answer some questions from the data collected. See the project instructions."
   ]
  },
  {
   "cell_type": "markdown",
   "id": "bc2c285e-d436-4595-9660-0ceebb45eadf",
   "metadata": {},
   "source": [
    "## **Two-sample proportions z-test**\n",
    "\n",
    "Determine if the proportion of adverse_effects differs significantly between the trx groups."
   ]
  },
  {
   "cell_type": "code",
   "execution_count": 1,
   "id": "62dc2a93-8a9c-4757-8aac-214c5de63e74",
   "metadata": {
    "executionCancelledAt": null,
    "executionTime": 3195,
    "lastExecutedAt": 1702291859689,
    "lastScheduledRunId": null,
    "lastSuccessfullyExecutedCode": "# Import packages\nimport numpy as np\nimport pandas as pd\nfrom statsmodels.stats.proportion import proportions_ztest\nimport pingouin\nimport seaborn as sns\nimport matplotlib.pyplot as plt"
   },
   "outputs": [],
   "source": [
    "# Import packages\n",
    "import numpy as np\n",
    "import pandas as pd\n",
    "from statsmodels.stats.proportion import proportions_ztest\n",
    "import pingouin\n",
    "import seaborn as sns\n",
    "import matplotlib.pyplot as plt"
   ]
  },
  {
   "cell_type": "code",
   "execution_count": 2,
   "id": "e8160440-c474-496c-aac6-f9ee9529f048",
   "metadata": {
    "executionCancelledAt": null,
    "executionTime": 86,
    "lastExecutedAt": 1702291859776,
    "lastScheduledRunId": null,
    "lastSuccessfullyExecutedCode": "# Load the dataset\ndrug_safety = pd.read_csv(\"drug_safety.csv\")\n\n# View first few rows\ndrug_safety.head()",
    "outputsMetadata": {
     "0": {
      "height": 196,
      "type": "dataFrame"
     }
    }
   },
   "outputs": [
    {
     "data": {
      "text/html": [
       "<div>\n",
       "<style scoped>\n",
       "    .dataframe tbody tr th:only-of-type {\n",
       "        vertical-align: middle;\n",
       "    }\n",
       "\n",
       "    .dataframe tbody tr th {\n",
       "        vertical-align: top;\n",
       "    }\n",
       "\n",
       "    .dataframe thead th {\n",
       "        text-align: right;\n",
       "    }\n",
       "</style>\n",
       "<table border=\"1\" class=\"dataframe\">\n",
       "  <thead>\n",
       "    <tr style=\"text-align: right;\">\n",
       "      <th></th>\n",
       "      <th>age</th>\n",
       "      <th>sex</th>\n",
       "      <th>trx</th>\n",
       "      <th>week</th>\n",
       "      <th>wbc</th>\n",
       "      <th>rbc</th>\n",
       "      <th>adverse_effects</th>\n",
       "      <th>num_effects</th>\n",
       "    </tr>\n",
       "  </thead>\n",
       "  <tbody>\n",
       "    <tr>\n",
       "      <th>0</th>\n",
       "      <td>62</td>\n",
       "      <td>male</td>\n",
       "      <td>Drug</td>\n",
       "      <td>0</td>\n",
       "      <td>7.3</td>\n",
       "      <td>5.1</td>\n",
       "      <td>No</td>\n",
       "      <td>0</td>\n",
       "    </tr>\n",
       "    <tr>\n",
       "      <th>1</th>\n",
       "      <td>62</td>\n",
       "      <td>male</td>\n",
       "      <td>Drug</td>\n",
       "      <td>1</td>\n",
       "      <td>NaN</td>\n",
       "      <td>NaN</td>\n",
       "      <td>No</td>\n",
       "      <td>0</td>\n",
       "    </tr>\n",
       "    <tr>\n",
       "      <th>2</th>\n",
       "      <td>62</td>\n",
       "      <td>male</td>\n",
       "      <td>Drug</td>\n",
       "      <td>12</td>\n",
       "      <td>5.6</td>\n",
       "      <td>5.0</td>\n",
       "      <td>No</td>\n",
       "      <td>0</td>\n",
       "    </tr>\n",
       "    <tr>\n",
       "      <th>3</th>\n",
       "      <td>62</td>\n",
       "      <td>male</td>\n",
       "      <td>Drug</td>\n",
       "      <td>16</td>\n",
       "      <td>NaN</td>\n",
       "      <td>NaN</td>\n",
       "      <td>No</td>\n",
       "      <td>0</td>\n",
       "    </tr>\n",
       "    <tr>\n",
       "      <th>4</th>\n",
       "      <td>62</td>\n",
       "      <td>male</td>\n",
       "      <td>Drug</td>\n",
       "      <td>2</td>\n",
       "      <td>6.6</td>\n",
       "      <td>5.1</td>\n",
       "      <td>No</td>\n",
       "      <td>0</td>\n",
       "    </tr>\n",
       "  </tbody>\n",
       "</table>\n",
       "</div>"
      ],
      "text/plain": [
       "   age   sex   trx  week  wbc  rbc adverse_effects  num_effects\n",
       "0   62  male  Drug     0  7.3  5.1              No            0\n",
       "1   62  male  Drug     1  NaN  NaN              No            0\n",
       "2   62  male  Drug    12  5.6  5.0              No            0\n",
       "3   62  male  Drug    16  NaN  NaN              No            0\n",
       "4   62  male  Drug     2  6.6  5.1              No            0"
      ]
     },
     "execution_count": 2,
     "metadata": {},
     "output_type": "execute_result"
    }
   ],
   "source": [
    "# Load the dataset\n",
    "drug_safety = pd.read_csv(\"drug_safety.csv\")\n",
    "\n",
    "# View first few rows\n",
    "drug_safety.head()"
   ]
  },
  {
   "cell_type": "code",
   "execution_count": 3,
   "id": "64cd159f-a50a-4c9f-a5db-d36f04c1e068",
   "metadata": {
    "executionCancelledAt": null,
    "executionTime": 53,
    "lastExecutedAt": 1702291859829,
    "lastScheduledRunId": null,
    "lastSuccessfullyExecutedCode": "# Getting the count of successes and total counts\n    # A \"success\" would be where \"adverse_effects\" is \"True\"\n\n# Create a variable containing the frequency of \"adverse_effects\" for each group\nadv_frequency = drug_safety.groupby('trx')['adverse_effects'].value_counts()\nadv_frequency",
    "outputsMetadata": {
     "0": {
      "height": 122,
      "type": "dataFrame"
     }
    }
   },
   "outputs": [
    {
     "data": {
      "text/plain": [
       "trx      adverse_effects\n",
       "Drug     No                 9703\n",
       "         Yes                1024\n",
       "Placebo  No                 4864\n",
       "         Yes                 512\n",
       "Name: adverse_effects, dtype: int64"
      ]
     },
     "execution_count": 3,
     "metadata": {},
     "output_type": "execute_result"
    }
   ],
   "source": [
    "# Getting the count of successes and total counts\n",
    "    # A \"success\" would be where \"adverse_effects\" is \"True\"\n",
    "\n",
    "# Create a variable containing the frequency of \"adverse_effects\" for each group\n",
    "adv_frequency = drug_safety.groupby('trx')['adverse_effects'].value_counts()\n",
    "adv_frequency"
   ]
  },
  {
   "cell_type": "code",
   "execution_count": 4,
   "id": "ce064f8f-b835-4f52-80e6-18558ed93d68",
   "metadata": {
    "executionCancelledAt": null,
    "executionTime": 56,
    "lastExecutedAt": 1702291859885,
    "lastScheduledRunId": null,
    "lastSuccessfullyExecutedCode": "# Get the total counts in each group by calculating the sum of successes and failures within each group\ngroup_counts = adv_frequency.groupby('trx').sum()\ngroup_counts"
   },
   "outputs": [
    {
     "data": {
      "text/plain": [
       "trx\n",
       "Drug       10727\n",
       "Placebo     5376\n",
       "Name: adverse_effects, dtype: int64"
      ]
     },
     "execution_count": 4,
     "metadata": {},
     "output_type": "execute_result"
    }
   ],
   "source": [
    "# Get the total counts in each group by calculating the sum of successes and failures within each group\n",
    "group_counts = adv_frequency.groupby('trx').sum()\n",
    "group_counts"
   ]
  },
  {
   "cell_type": "code",
   "execution_count": 5,
   "id": "f38ed9da-e159-48e0-a9b8-ac73ba1dcd38",
   "metadata": {
    "executionCancelledAt": null,
    "executionTime": 52,
    "lastExecutedAt": 1702291859937,
    "lastScheduledRunId": null,
    "lastSuccessfullyExecutedCode": "# Put the number of successes in each group in a numpy array.\ncount_success_arr = adv_frequency.xs(key='Yes', level='adverse_effects', axis=0, drop_level=False).to_numpy()\ncount_success_arr"
   },
   "outputs": [
    {
     "data": {
      "text/plain": [
       "array([1024,  512], dtype=int64)"
      ]
     },
     "execution_count": 5,
     "metadata": {},
     "output_type": "execute_result"
    }
   ],
   "source": [
    "# Put the number of successes in each group in a numpy array.\n",
    "count_success_arr = adv_frequency.xs(key='Yes', level='adverse_effects', axis=0, drop_level=False).to_numpy()\n",
    "count_success_arr"
   ]
  },
  {
   "cell_type": "code",
   "execution_count": 6,
   "id": "37904334-cdec-4fe9-974f-1a4e33b07b26",
   "metadata": {
    "executionCancelledAt": null,
    "executionTime": 48,
    "lastExecutedAt": 1702291859985,
    "lastScheduledRunId": null,
    "lastSuccessfullyExecutedCode": "# Put each group's total number of observations (rows) in a numpy array.\ncount_group_arr = group_counts.to_numpy()\ncount_group_arr"
   },
   "outputs": [
    {
     "data": {
      "text/plain": [
       "array([10727,  5376], dtype=int64)"
      ]
     },
     "execution_count": 6,
     "metadata": {},
     "output_type": "execute_result"
    }
   ],
   "source": [
    "# Put each group's total number of observations (rows) in a numpy array.\n",
    "count_group_arr = group_counts.to_numpy()\n",
    "count_group_arr"
   ]
  },
  {
   "cell_type": "markdown",
   "id": "64d35187-1e15-4ae6-94df-7cd8037cff38",
   "metadata": {},
   "source": [
    "**Data from two independent groups:**\n",
    "- **Group 1 (**Drug**)**: 10727 individuals, 1024 of whom have adverse effects.\n",
    "- **Group 2 (**Placebo**)**: 5376 individuals, 512 of whom have adverse effects."
   ]
  },
  {
   "cell_type": "code",
   "execution_count": 7,
   "id": "09268685-87b2-49da-8024-e86c4737e425",
   "metadata": {
    "executionCancelledAt": null,
    "executionTime": 13,
    "lastExecutedAt": 1702291888136,
    "lastScheduledRunId": null,
    "lastSuccessfullyExecutedCode": "# Performing a two-sample proportions z-test\n# proportions_ztest() takes the number of successes and total number of observations, returning a tuple containing the z-statistic and p-value.\n\ntwo_sample_results = proportions_ztest(count=count_success_arr, nobs=count_group_arr)\n\n# Subset the second element (p-value)\ntwo_sample_p_value = two_sample_results[1]\ntwo_sample_p_value"
   },
   "outputs": [
    {
     "data": {
      "text/plain": [
       "0.9639333330262475"
      ]
     },
     "execution_count": 7,
     "metadata": {},
     "output_type": "execute_result"
    }
   ],
   "source": [
    "# Performing a two-sample proportions z-test\n",
    "# proportions_ztest() takes the number of successes and total number of observations, returning a tuple containing the z-statistic and p-value.\n",
    "\n",
    "two_sample_results = proportions_ztest(count=count_success_arr, nobs=count_group_arr)\n",
    "\n",
    "# Subset the second element (p-value)\n",
    "two_sample_p_value = two_sample_results[1]\n",
    "two_sample_p_value"
   ]
  },
  {
   "cell_type": "markdown",
   "id": "7ed4605c-c009-4bac-8993-9e5351235c94",
   "metadata": {},
   "source": [
    "The p-value is 0.9639, which is much greater than the significance level (0.05).Therefore, there is no statistical evidence to suggest a significant difference in the proportions of adverse effects between the two groups."
   ]
  },
  {
   "cell_type": "markdown",
   "id": "777dd1a3-ffaf-4018-9523-fd1b9076af6a",
   "metadata": {},
   "source": [
    "## Association between adverse effects and treatment groups\n",
    "\n",
    "Find out if the number of adverse effects is independent of the treatment and control groups."
   ]
  },
  {
   "cell_type": "code",
   "execution_count": 8,
   "id": "368782f5-1c97-48f8-84b6-fa9b9d6444ce",
   "metadata": {
    "executionCancelledAt": null,
    "executionTime": 51,
    "lastExecutedAt": 1702291914281,
    "lastScheduledRunId": null,
    "lastSuccessfullyExecutedCode": "# Perform a Chi-square test of independence.\nnum_effects_groups = pingouin.chi2_independence(data=drug_safety, x='trx', y='num_effects')\nnum_effects_groups"
   },
   "outputs": [
    {
     "name": "stderr",
     "output_type": "stream",
     "text": [
      "C:\\Users\\Lenovo\\anaconda3\\Lib\\site-packages\\pingouin\\contingency.py:150: UserWarning: Low count on observed frequencies.\n",
      "  warnings.warn(\"Low count on {} frequencies.\".format(name))\n",
      "C:\\Users\\Lenovo\\anaconda3\\Lib\\site-packages\\pingouin\\contingency.py:150: UserWarning: Low count on expected frequencies.\n",
      "  warnings.warn(\"Low count on {} frequencies.\".format(name))\n"
     ]
    },
    {
     "data": {
      "text/plain": [
       "(num_effects            0           1          2         3\n",
       " trx                                                      \n",
       " Drug         9703.794883  960.587096  58.621126  3.996895\n",
       " Placebo      4863.205117  481.412904  29.378874  2.003105,\n",
       " num_effects     0    1   2  3\n",
       " trx                          \n",
       " Drug         9703  956  63  5\n",
       " Placebo      4864  486  25  1,\n",
       "                  test    lambda      chi2  dof      pval    cramer     power\n",
       " 0             pearson  1.000000  1.799644  3.0  0.615012  0.010572  0.176275\n",
       " 1        cressie-read  0.666667  1.836006  3.0  0.607131  0.010678  0.179153\n",
       " 2      log-likelihood  0.000000  1.922495  3.0  0.588648  0.010926  0.186033\n",
       " 3       freeman-tukey -0.500000  2.001752  3.0  0.572043  0.011149  0.192379\n",
       " 4  mod-log-likelihood -1.000000  2.096158  3.0  0.552690  0.011409  0.199984\n",
       " 5              neyman -2.000000  2.344303  3.0  0.504087  0.012066  0.220189)"
      ]
     },
     "execution_count": 8,
     "metadata": {},
     "output_type": "execute_result"
    }
   ],
   "source": [
    "# Conduct a Chi-square test of independence.\n",
    "num_effects_groups = pingouin.chi2_independence(data=drug_safety, x='trx', y='num_effects')\n",
    "num_effects_groups"
   ]
  },
  {
   "cell_type": "code",
   "execution_count": 9,
   "id": "b7a0096d",
   "metadata": {},
   "outputs": [
    {
     "data": {
      "text/plain": [
       "0.6150123339426765"
      ]
     },
     "execution_count": 9,
     "metadata": {},
     "output_type": "execute_result"
    }
   ],
   "source": [
    "# Subset for the p-value of the test\n",
    "num_effects_p_value = num_effects_groups[2]['pval'][0]\n",
    "\n",
    "# Show the result\n",
    "num_effects_p_value"
   ]
  },
  {
   "cell_type": "markdown",
   "id": "a7185585",
   "metadata": {},
   "source": [
    "The p-value (0.6150) is greater than the commonly used significance level of 0.05. Hence, there is not enough evidence to suggest that the number of adverse effects is significantly associated with the treatment and control groups. In other words, there is no sufficient statistical evidence to conclude that there is a relationship or dependency between the treatment received and the occurrence of adverse effects."
   ]
  },
  {
   "cell_type": "markdown",
   "id": "aa78480b",
   "metadata": {},
   "source": [
    "_The warning about low count on observed frequencies is a common caution in statistical analysis, particularly in the context of chi-square tests of independence. The warning is typically raised when one or more cells in the contingency table have expected frequencies below a certain threshold._\n",
    "\n",
    "_**The minimum expected frequency threshold varies**, but a common rule of thumb is that all expected frequencies should be greater than or equal to 5.([biostathandbook.com](https://www.biostathandbook.com/small.html))_\n",
    "\n",
    "_The concern regarding low expected frequencies is often overstated. While some suggest worrying when expected frequencies fall below 5, the observation aligns more with a commonly accepted guideline, as articulated by Harold Jeffreys in his work \"Theory of Probability\" (Oxford University Press, 1961). According to this perspective, the only significant concern arises when expected frequencies drop below 1, and in this case, none of the expected frequencies are that low. ([StackExchange](https://stats.stackexchange.com/questions/370105/contingency-table-2x4-right-test-confidence-intervals))_"
   ]
  },
  {
   "cell_type": "markdown",
   "id": "80abd5ef-59e8-453e-8deb-fc9de7e790aa",
   "metadata": {},
   "source": [
    "## Inspecting whether age is normally distributed"
   ]
  },
  {
   "cell_type": "markdown",
   "id": "07d1cb6a-9818-444b-ac21-4ba07099ef84",
   "metadata": {},
   "source": [
    "To confirm whether age differs significantly between the trx groups, check if age is normally distributed in the trx groups. This can be done visually or by using a statistical test using the **Jarque-Bera test**.\n",
    "\n",
    "The Jarque-Bera test is a statistical test used to assess whether a given sample follows a normal distribution. It is particularly suitable for large sample sizes (compared to Shapiro-Wilk test which can be used if data points is below 5000). The purpose of the test is to evaluate whether the skewness and kurtosis of the sample data match the skewness and kurtosis expected in a normal distribution."
   ]
  },
  {
   "cell_type": "code",
   "execution_count": 10,
   "id": "1df9f905-5103-4389-afb5-c90af0d48fea",
   "metadata": {
    "executionCancelledAt": null,
    "executionTime": 354,
    "lastExecutedAt": 1702292292762,
    "lastScheduledRunId": null,
    "lastSuccessfullyExecutedCode": "# Create a histogram\ncustom_palette = {'male': 'skyblue', 'female': 'red'}\nsns.histplot(data=drug_safety, x='age',hue='sex', palette=custom_palette)\n\n# Add a title\nplt.title('Age Distribution by Gender');"
   },
   "outputs": [
    {
     "data": {
      "image/png": "[encoded data removed]",
      "text/plain": [
       "<Figure size 640x480 with 1 Axes>"
      ]
     },
     "metadata": {},
     "output_type": "display_data"
    }
   ],
   "source": [
    "# Create a histogram\n",
    "custom_palette = {'male': 'skyblue', 'female': 'red'}\n",
    "sns.histplot(data=drug_safety, x='age',hue='sex', palette=custom_palette)\n",
    "\n",
    "# Add a title\n",
    "plt.title('Age Distribution by Gender');"
   ]
  },
  {
   "cell_type": "code",
   "execution_count": 11,
   "id": "b0ad41b6-13c0-417b-8fce-6db7a969f915",
   "metadata": {
    "executionCancelledAt": null,
    "executionTime": 48,
    "lastExecutedAt": 1702292867921,
    "lastScheduledRunId": null,
    "lastSuccessfullyExecutedCode": "# Testing for normality\n# The Shapiro-Wilk test is a statistical test used to assess whether a given sample comes from a normally distributed population. \n# Perform a Shapiro-Wilks test to formally test for a difference in distributions of age between the two trx groups\n\npingouin.normality(data=drug_safety, dv='age', group='sex', method='shapiro')",
    "outputsMetadata": {
     "0": {
      "height": 122,
      "type": "dataFrame"
     }
    }
   },
   "outputs": [
    {
     "data": {
      "text/html": [
       "<div>\n",
       "<style scoped>\n",
       "    .dataframe tbody tr th:only-of-type {\n",
       "        vertical-align: middle;\n",
       "    }\n",
       "\n",
       "    .dataframe tbody tr th {\n",
       "        vertical-align: top;\n",
       "    }\n",
       "\n",
       "    .dataframe thead th {\n",
       "        text-align: right;\n",
       "    }\n",
       "</style>\n",
       "<table border=\"1\" class=\"dataframe\">\n",
       "  <thead>\n",
       "    <tr style=\"text-align: right;\">\n",
       "      <th></th>\n",
       "      <th>W</th>\n",
       "      <th>pval</th>\n",
       "      <th>normal</th>\n",
       "    </tr>\n",
       "    <tr>\n",
       "      <th>sex</th>\n",
       "      <th></th>\n",
       "      <th></th>\n",
       "      <th></th>\n",
       "    </tr>\n",
       "  </thead>\n",
       "  <tbody>\n",
       "    <tr>\n",
       "      <th>male</th>\n",
       "      <td>561.912729</td>\n",
       "      <td>9.598453e-123</td>\n",
       "      <td>False</td>\n",
       "    </tr>\n",
       "    <tr>\n",
       "      <th>female</th>\n",
       "      <td>112.482933</td>\n",
       "      <td>3.755272e-25</td>\n",
       "      <td>False</td>\n",
       "    </tr>\n",
       "  </tbody>\n",
       "</table>\n",
       "</div>"
      ],
      "text/plain": [
       "                 W           pval  normal\n",
       "sex                                      \n",
       "male    561.912729  9.598453e-123   False\n",
       "female  112.482933   3.755272e-25   False"
      ]
     },
     "execution_count": 11,
     "metadata": {},
     "output_type": "execute_result"
    }
   ],
   "source": [
    "# Test for normality\n",
    "# Test for a difference in distributions of age between the two trx groups\n",
    "\n",
    "pingouin.normality(data=drug_safety, dv='age', group='sex', method='jarque_bera')"
   ]
  },
  {
   "cell_type": "markdown",
   "id": "e9267c3e-aa76-433f-a596-a625f3331e71",
   "metadata": {},
   "source": [
    "For both males and females, the p-values are very close to zero (9.598453e-123 for males and 3.755272e-25 for females), which is much smaller than the significance level of 0.05.\n",
    "\n",
    "The evidence from the  Jarque-Bera test suggests that the age distributions for both males and females are not normal.\n",
    "\n",
    "Therefore, the assumption of normality may not be met for the age variable in both treatment groups."
   ]
  },
  {
   "cell_type": "markdown",
   "id": "24a6f0c8-5a8f-46a0-b30c-245fe2eb5f5a",
   "metadata": {},
   "source": [
    "## Significant difference between the ages of both groups"
   ]
  },
  {
   "cell_type": "markdown",
   "id": "a3f44834-a662-4204-b45d-b57600a2e374",
   "metadata": {},
   "source": [
    "To ensure age wasn't a confounder, conduct a Mann-Whitney test to determine if age differed significantly between the trx groups.\n",
    "\n",
    "It is commonly employed when the data is not normally distributed or when the assumption of equal variances is not met. It is used to determine whether there is a significant difference between the distributions of two groups."
   ]
  },
  {
   "cell_type": "code",
   "execution_count": 12,
   "id": "39beea02-12c5-452a-99cd-962405034b1a",
   "metadata": {
    "executionCancelledAt": null,
    "executionTime": 271,
    "lastExecutedAt": 1702293847191,
    "lastScheduledRunId": null,
    "lastSuccessfullyExecutedCode": "# Create two variables, age_trx and age_placebo by filtering where trx is \"Drug\" and subsetting the age column, then repeating where trx is \"Placebo\".\nage_trx = drug_safety[drug_safety['trx'] == 'Drug'].loc[:,'age']\nage_placebo = drug_safety[drug_safety['trx'] == 'Placebo'].loc[:, 'age']\n\n# Perform a Mann-Whitney U test\nmwu_result = pingouin.mwu(x=age_trx, y=age_placebo)\n\n# View the result\nmwu_result",
    "outputsMetadata": {
     "0": {
      "height": 97,
      "type": "dataFrame"
     }
    }
   },
   "outputs": [
    {
     "data": {
      "text/html": [
       "<div>\n",
       "<style scoped>\n",
       "    .dataframe tbody tr th:only-of-type {\n",
       "        vertical-align: middle;\n",
       "    }\n",
       "\n",
       "    .dataframe tbody tr th {\n",
       "        vertical-align: top;\n",
       "    }\n",
       "\n",
       "    .dataframe thead th {\n",
       "        text-align: right;\n",
       "    }\n",
       "</style>\n",
       "<table border=\"1\" class=\"dataframe\">\n",
       "  <thead>\n",
       "    <tr style=\"text-align: right;\">\n",
       "      <th></th>\n",
       "      <th>U-val</th>\n",
       "      <th>alternative</th>\n",
       "      <th>p-val</th>\n",
       "      <th>RBC</th>\n",
       "      <th>CLES</th>\n",
       "    </tr>\n",
       "  </thead>\n",
       "  <tbody>\n",
       "    <tr>\n",
       "      <th>MWU</th>\n",
       "      <td>29149339.5</td>\n",
       "      <td>two-sided</td>\n",
       "      <td>0.256963</td>\n",
       "      <td>-0.01093</td>\n",
       "      <td>0.505465</td>\n",
       "    </tr>\n",
       "  </tbody>\n",
       "</table>\n",
       "</div>"
      ],
      "text/plain": [
       "          U-val alternative     p-val      RBC      CLES\n",
       "MWU  29149339.5   two-sided  0.256963 -0.01093  0.505465"
      ]
     },
     "execution_count": 12,
     "metadata": {},
     "output_type": "execute_result"
    }
   ],
   "source": [
    "# Create two variables, age_trx and age_placebo by filtering where trx is \"Drug\" and subsetting the age column, then repeating where trx is \"Placebo\".\n",
    "age_trx = drug_safety[drug_safety['trx'] == 'Drug'].loc[:,'age']\n",
    "age_placebo = drug_safety[drug_safety['trx'] == 'Placebo'].loc[:, 'age']\n",
    "\n",
    "# Perform a Mann-Whitney U test\n",
    "mwu_result = pingouin.mwu(x=age_trx, y=age_placebo)\n",
    "\n",
    "# View the result\n",
    "mwu_result"
   ]
  },
  {
   "cell_type": "code",
   "execution_count": 13,
   "id": "62c68c2c-4a6d-4e75-ae73-e4517e511dd7",
   "metadata": {
    "executionCancelledAt": null,
    "executionTime": 11,
    "lastExecutedAt": 1702293964828,
    "lastScheduledRunId": null,
    "lastSuccessfullyExecutedCode": "# Extract the \"p-val\" column\nage_group_effects_p_value = mwu_result['p-val']['MWU']\nage_group_effects_p_value"
   },
   "outputs": [
    {
     "data": {
      "text/plain": [
       "MWU    0.256963\n",
       "Name: p-val, dtype: float64"
      ]
     },
     "execution_count": 13,
     "metadata": {},
     "output_type": "execute_result"
    }
   ],
   "source": [
    "# Extract the \"p-val\" column\n",
    "age_group_effects_p_value = mwu_result['p-val']\n",
    "age_group_effects_p_value"
   ]
  },
  {
   "cell_type": "markdown",
   "id": "dbb490a9-88b8-44de-ae3e-50f4a0b9830d",
   "metadata": {},
   "source": [
    "The p-value is greater than the significance level (0.05), hence failed to reject the null hypothesis, suggesting that there is not enough evidence to claim significant difference in age between the groups."
   ]
  }
 ],
 "metadata": {
  "colab": {
   "name": "Welcome to DataCamp Workspaces.ipynb",
   "provenance": []
  },
  "kernelspec": {
   "display_name": "Python 3 (ipykernel)",
   "language": "python",
   "name": "python3"
  },
  "language_info": {
   "codemirror_mode": {
    "name": "ipython",
    "version": 3
   },
   "file_extension": ".py",
   "mimetype": "text/x-python",
   "name": "python",
   "nbconvert_exporter": "python",
   "pygments_lexer": "ipython3",
   "version": "3.11.5"
  }
 },
 "nbformat": 4,
 "nbformat_minor": 5
}
