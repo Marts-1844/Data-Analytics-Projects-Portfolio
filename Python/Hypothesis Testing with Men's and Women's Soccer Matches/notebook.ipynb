{
 "cells": [
  {
   "cell_type": "markdown",
   "id": "3ed0edb2-696b-49ab-9db0-681defcce695",
   "metadata": {},
   "source": [
    "![A soccer pitch for an international match.](soccer-pitch.jpg)\n",
    "\n",
    "You're working as a sports journalist at a major online sports media company, specializing in soccer analysis and reporting. You've been watching both men's and women's international soccer matches for a number of years, and your gut instinct tells you that more goals are scored in women's international football matches than men's. This would make an interesting investigative article that your subscribers are bound to love, but you'll need to perform a valid statistical hypothesis test to be sure!\n",
    "\n",
    "While scoping this project, you acknowledge that the sport has changed a lot over the years, and performances likely vary a lot depending on the tournament, so you decide to limit the data used in the analysis to only official `FIFA World Cup` matches (not including qualifiers) since `2002-01-01`.\n",
    "\n",
    "You create two datasets containing the results of every official men's and women's international football match since the 19th century, which you scraped from a reliable online source. This data is stored in two CSV files: `women_results.csv` and `men_results.csv`.\n",
    "\n",
    "The question you are trying to determine the answer to is:\n",
    "\n",
    "> Are more goals scored in women's international soccer matches than men's?\n",
    "\n",
    "You assume a **10% significance level**, and use the following null and alternative hypotheses:\n",
    "\n",
    "$H_0$ : The mean number of goals scored in women's international soccer matches is the same as men's.\n",
    "\n",
    "$H_A$ : The mean number of goals scored in women's international soccer matches is greater than men's."
   ]
  },
  {
   "cell_type": "markdown",
   "id": "75e76e21-ebff-43f0-8cfd-2f38a3ec3909",
   "metadata": {},
   "source": [
    "## Exploratory data analysis"
   ]
  },
  {
   "cell_type": "code",
   "execution_count": 1,
   "id": "84a3c4c8-534b-4d1a-9919-17e05208b2ca",
   "metadata": {
    "executionCancelledAt": null,
    "executionTime": 50,
    "lastExecutedAt": 1702557453325,
    "lastScheduledRunId": null,
    "lastSuccessfullyExecutedCode": "# Import pandas\nimport pandas as pd"
   },
   "outputs": [],
   "source": [
    "# Import pandas\n",
    "import pandas as pd"
   ]
  },
  {
   "cell_type": "code",
   "execution_count": 2,
   "id": "1c91d91b-cfb2-4527-a088-e7a999ae834a",
   "metadata": {
    "executionCancelledAt": null,
    "executionTime": 73,
    "lastExecutedAt": 1702557453398,
    "lastScheduledRunId": null,
    "lastSuccessfullyExecutedCode": "# Load the data from men_results.csv and women_results.csv\nmen_results = pd.read_csv('men_results.csv', parse_dates=['date'], index_col=0)\nwomen_results = pd.read_csv('women_results.csv', parse_dates=['date'], index_col=0)"
   },
   "outputs": [],
   "source": [
    "# Load the data from men_results.csv and women_results.csv\n",
    "men_results = pd.read_csv('datasets/men_results.csv', parse_dates=['date'], index_col=0)\n",
    "women_results = pd.read_csv('datasets/women_results.csv', parse_dates=['date'], index_col=0)"
   ]
  },
  {
   "cell_type": "code",
   "execution_count": 3,
   "id": "ac2fee97-057c-4147-b38f-4d12b9602acc",
   "metadata": {
    "executionCancelledAt": null,
    "executionTime": 47,
    "lastExecutedAt": 1702557453445,
    "lastScheduledRunId": null,
    "lastSuccessfullyExecutedCode": "# Determining the column names, data types, and values for men\nmen_results.info()",
    "outputsMetadata": {
     "0": {
      "height": 277,
      "type": "stream"
     }
    }
   },
   "outputs": [
    {
     "name": "stdout",
     "output_type": "stream",
     "text": [
      "<class 'pandas.core.frame.DataFrame'>\n",
      "Int64Index: 44353 entries, 0 to 44352\n",
      "Data columns (total 6 columns):\n",
      " #   Column      Non-Null Count  Dtype         \n",
      "---  ------      --------------  -----         \n",
      " 0   date        44353 non-null  datetime64[ns]\n",
      " 1   home_team   44353 non-null  object        \n",
      " 2   away_team   44353 non-null  object        \n",
      " 3   home_score  44353 non-null  int64         \n",
      " 4   away_score  44353 non-null  int64         \n",
      " 5   tournament  44353 non-null  object        \n",
      "dtypes: datetime64[ns](1), int64(2), object(3)\n",
      "memory usage: 2.4+ MB\n"
     ]
    }
   ],
   "source": [
    "# Determining the column names, data types, and values for men\n",
    "men_results.info()"
   ]
  },
  {
   "cell_type": "code",
   "execution_count": 4,
   "id": "b9506931-9880-48bf-95b1-898456224b80",
   "metadata": {
    "executionCancelledAt": null,
    "executionTime": 60,
    "lastExecutedAt": 1702557453505,
    "lastScheduledRunId": null,
    "lastSuccessfullyExecutedCode": "#View first few rows\nmen_results.head()",
    "outputsMetadata": {
     "0": {
      "height": 196,
      "type": "dataFrame"
     }
    }
   },
   "outputs": [
    {
     "data": {
      "text/html": [
       "<div>\n",
       "<style scoped>\n",
       "    .dataframe tbody tr th:only-of-type {\n",
       "        vertical-align: middle;\n",
       "    }\n",
       "\n",
       "    .dataframe tbody tr th {\n",
       "        vertical-align: top;\n",
       "    }\n",
       "\n",
       "    .dataframe thead th {\n",
       "        text-align: right;\n",
       "    }\n",
       "</style>\n",
       "<table border=\"1\" class=\"dataframe\">\n",
       "  <thead>\n",
       "    <tr style=\"text-align: right;\">\n",
       "      <th></th>\n",
       "      <th>date</th>\n",
       "      <th>home_team</th>\n",
       "      <th>away_team</th>\n",
       "      <th>home_score</th>\n",
       "      <th>away_score</th>\n",
       "      <th>tournament</th>\n",
       "    </tr>\n",
       "  </thead>\n",
       "  <tbody>\n",
       "    <tr>\n",
       "      <th>0</th>\n",
       "      <td>1872-11-30</td>\n",
       "      <td>Scotland</td>\n",
       "      <td>England</td>\n",
       "      <td>0</td>\n",
       "      <td>0</td>\n",
       "      <td>Friendly</td>\n",
       "    </tr>\n",
       "    <tr>\n",
       "      <th>1</th>\n",
       "      <td>1873-03-08</td>\n",
       "      <td>England</td>\n",
       "      <td>Scotland</td>\n",
       "      <td>4</td>\n",
       "      <td>2</td>\n",
       "      <td>Friendly</td>\n",
       "    </tr>\n",
       "    <tr>\n",
       "      <th>2</th>\n",
       "      <td>1874-03-07</td>\n",
       "      <td>Scotland</td>\n",
       "      <td>England</td>\n",
       "      <td>2</td>\n",
       "      <td>1</td>\n",
       "      <td>Friendly</td>\n",
       "    </tr>\n",
       "    <tr>\n",
       "      <th>3</th>\n",
       "      <td>1875-03-06</td>\n",
       "      <td>England</td>\n",
       "      <td>Scotland</td>\n",
       "      <td>2</td>\n",
       "      <td>2</td>\n",
       "      <td>Friendly</td>\n",
       "    </tr>\n",
       "    <tr>\n",
       "      <th>4</th>\n",
       "      <td>1876-03-04</td>\n",
       "      <td>Scotland</td>\n",
       "      <td>England</td>\n",
       "      <td>3</td>\n",
       "      <td>0</td>\n",
       "      <td>Friendly</td>\n",
       "    </tr>\n",
       "  </tbody>\n",
       "</table>\n",
       "</div>"
      ],
      "text/plain": [
       "        date home_team away_team  home_score  away_score tournament\n",
       "0 1872-11-30  Scotland   England           0           0   Friendly\n",
       "1 1873-03-08   England  Scotland           4           2   Friendly\n",
       "2 1874-03-07  Scotland   England           2           1   Friendly\n",
       "3 1875-03-06   England  Scotland           2           2   Friendly\n",
       "4 1876-03-04  Scotland   England           3           0   Friendly"
      ]
     },
     "execution_count": 4,
     "metadata": {},
     "output_type": "execute_result"
    }
   ],
   "source": [
    "#View first few rows\n",
    "men_results.head()"
   ]
  },
  {
   "cell_type": "markdown",
   "id": "d968f2fa-13fe-4801-98a5-ce1294816e01",
   "metadata": {},
   "source": [
    "There have been 44,353 men's soccer matches on this dataset"
   ]
  },
  {
   "cell_type": "code",
   "execution_count": 5,
   "id": "9d7a6dab-b30b-4884-bc6c-7484b01dfd68",
   "metadata": {
    "executionCancelledAt": null,
    "executionTime": 49,
    "lastExecutedAt": 1702557453554,
    "lastScheduledRunId": null,
    "lastSuccessfullyExecutedCode": "# Name and count of tournaments\nmen_results['tournament'].value_counts()"
   },
   "outputs": [
    {
     "data": {
      "text/plain": [
       "Friendly                                17519\n",
       "FIFA World Cup qualification             7878\n",
       "UEFA Euro qualification                  2585\n",
       "African Cup of Nations qualification     1932\n",
       "FIFA World Cup                            964\n",
       "                                        ...  \n",
       "Real Madrid 75th Anniversary Cup            1\n",
       "Évence Coppée Trophy                        1\n",
       "Copa Confraternidad                         1\n",
       "TIFOCO Tournament                           1\n",
       "FIFA 75th Anniversary Cup                   1\n",
       "Name: tournament, Length: 141, dtype: int64"
      ]
     },
     "execution_count": 5,
     "metadata": {},
     "output_type": "execute_result"
    }
   ],
   "source": [
    "# Name and count of tournaments\n",
    "men_results['tournament'].value_counts()"
   ]
  },
  {
   "cell_type": "markdown",
   "id": "25f1b771-70d8-4ec7-affa-e416c120123a",
   "metadata": {},
   "source": [
    "Out of the total matches, 17,519 were friendly tournaments folloed by FIFA World Cup qualification with 7878 matches. This indicates a significant portion of matches is attributed to friendly competitions, which are not part of the official World Cup."
   ]
  },
  {
   "cell_type": "code",
   "execution_count": 6,
   "id": "1c7cd2dc-4b49-4d4b-84f0-5b0c5e3e766a",
   "metadata": {
    "executionCancelledAt": null,
    "executionTime": 47,
    "lastExecutedAt": 1702557453601,
    "lastScheduledRunId": null,
    "lastSuccessfullyExecutedCode": "# Determining the column names, data types, and values for women\nwomen_results.info()",
    "outputsMetadata": {
     "0": {
      "height": 277,
      "type": "stream"
     }
    }
   },
   "outputs": [
    {
     "name": "stdout",
     "output_type": "stream",
     "text": [
      "<class 'pandas.core.frame.DataFrame'>\n",
      "Int64Index: 4884 entries, 0 to 4883\n",
      "Data columns (total 6 columns):\n",
      " #   Column      Non-Null Count  Dtype         \n",
      "---  ------      --------------  -----         \n",
      " 0   date        4884 non-null   datetime64[ns]\n",
      " 1   home_team   4884 non-null   object        \n",
      " 2   away_team   4884 non-null   object        \n",
      " 3   home_score  4884 non-null   int64         \n",
      " 4   away_score  4884 non-null   int64         \n",
      " 5   tournament  4884 non-null   object        \n",
      "dtypes: datetime64[ns](1), int64(2), object(3)\n",
      "memory usage: 267.1+ KB\n"
     ]
    }
   ],
   "source": [
    "# Determining the column names, data types, and values for women\n",
    "women_results.info()"
   ]
  },
  {
   "cell_type": "markdown",
   "id": "662899cc-2996-4076-90b9-eb325aea9ad1",
   "metadata": {},
   "source": [
    "There have been 4884 women's soccer matches on this dataset"
   ]
  },
  {
   "cell_type": "code",
   "execution_count": 7,
   "id": "be219f53-7aa3-406e-b065-9fa406aef4f5",
   "metadata": {
    "executionCancelledAt": null,
    "executionTime": 48,
    "lastExecutedAt": 1702557453649,
    "lastScheduledRunId": null,
    "lastSuccessfullyExecutedCode": "# Name and count of tournaments\nwomen_results['tournament'].value_counts()"
   },
   "outputs": [
    {
     "data": {
      "text/plain": [
       "UEFA Euro qualification                 1445\n",
       "Algarve Cup                              551\n",
       "FIFA World Cup                           284\n",
       "AFC Championship                         268\n",
       "Cyprus Cup                               258\n",
       "African Championship qualification       226\n",
       "UEFA Euro                                184\n",
       "African Championship                     173\n",
       "FIFA World Cup qualification             172\n",
       "CONCACAF Gold Cup qualification          143\n",
       "AFC Asian Cup qualification              141\n",
       "Copa América                             131\n",
       "Olympic Games                            130\n",
       "CONCACAF Gold Cup                        126\n",
       "Friendly                                 111\n",
       "AFC Asian Cup                            111\n",
       "Four Nations Tournament                  106\n",
       "OFC Championship                          78\n",
       "African Cup of Nations qualification      58\n",
       "CONCACAF Championship                     42\n",
       "SheBelieves Cup                           39\n",
       "Euro                                      20\n",
       "African Cup of Nations                    16\n",
       "OFC Nations Cup                           16\n",
       "Olympic Games qualification               15\n",
       "Tournament of Nations                     12\n",
       "Tournoi de France                         12\n",
       "CONCACAF Invitational Tournament           6\n",
       "OFC Nations Cup qualification              6\n",
       "Basque Country Women's Cup                 4\n",
       "Name: tournament, dtype: int64"
      ]
     },
     "execution_count": 7,
     "metadata": {},
     "output_type": "execute_result"
    }
   ],
   "source": [
    "# Name and count of tournaments\n",
    "women_results['tournament'].value_counts()"
   ]
  },
  {
   "cell_type": "markdown",
   "id": "5866d730-1dc9-4fa1-9b45-38c3de4f3c1e",
   "metadata": {},
   "source": [
    "Out of the total women's matches, 1,445 were UEFA Euro qualification tournaments. This indicates that the women's football landscape were prevalent via regional qualification tournaments, such as those organized by UEFA."
   ]
  },
  {
   "cell_type": "markdown",
   "id": "2455b47e-6361-4ab2-bb58-995756c88c99",
   "metadata": {},
   "source": [
    "##  Filtering the data"
   ]
  },
  {
   "cell_type": "markdown",
   "id": "773b26c8-c2ba-4b3d-b2a9-e4fefe7690bb",
   "metadata": {},
   "source": [
    "Filter the data to only include official FIFA World Cup matches that took place after 2002-01-01."
   ]
  },
  {
   "cell_type": "code",
   "execution_count": 8,
   "id": "c13c4c7e-2793-4bd6-826a-f54320425fce",
   "metadata": {
    "executionCancelledAt": null,
    "executionTime": 77,
    "lastExecutedAt": 1702557453726,
    "lastScheduledRunId": null,
    "lastSuccessfullyExecutedCode": "# Filtering for FIFA World Cup matches\n\n# Men's matches\nmen_wc = men_results[(men_results['tournament'] == 'FIFA World Cup') & (men_results['date'] > '2002-01-01')]\n\n# View dataframe\nmen_wc",
    "outputsMetadata": {
     "0": {
      "height": 320,
      "type": "dataFrame"
     }
    }
   },
   "outputs": [
    {
     "data": {
      "text/html": [
       "<div>\n",
       "<style scoped>\n",
       "    .dataframe tbody tr th:only-of-type {\n",
       "        vertical-align: middle;\n",
       "    }\n",
       "\n",
       "    .dataframe tbody tr th {\n",
       "        vertical-align: top;\n",
       "    }\n",
       "\n",
       "    .dataframe thead th {\n",
       "        text-align: right;\n",
       "    }\n",
       "</style>\n",
       "<table border=\"1\" class=\"dataframe\">\n",
       "  <thead>\n",
       "    <tr style=\"text-align: right;\">\n",
       "      <th></th>\n",
       "      <th>date</th>\n",
       "      <th>home_team</th>\n",
       "      <th>away_team</th>\n",
       "      <th>home_score</th>\n",
       "      <th>away_score</th>\n",
       "      <th>tournament</th>\n",
       "    </tr>\n",
       "  </thead>\n",
       "  <tbody>\n",
       "    <tr>\n",
       "      <th>25164</th>\n",
       "      <td>2002-05-31</td>\n",
       "      <td>France</td>\n",
       "      <td>Senegal</td>\n",
       "      <td>0</td>\n",
       "      <td>1</td>\n",
       "      <td>FIFA World Cup</td>\n",
       "    </tr>\n",
       "    <tr>\n",
       "      <th>25165</th>\n",
       "      <td>2002-06-01</td>\n",
       "      <td>Germany</td>\n",
       "      <td>Saudi Arabia</td>\n",
       "      <td>8</td>\n",
       "      <td>0</td>\n",
       "      <td>FIFA World Cup</td>\n",
       "    </tr>\n",
       "    <tr>\n",
       "      <th>25166</th>\n",
       "      <td>2002-06-01</td>\n",
       "      <td>Republic of Ireland</td>\n",
       "      <td>Cameroon</td>\n",
       "      <td>1</td>\n",
       "      <td>1</td>\n",
       "      <td>FIFA World Cup</td>\n",
       "    </tr>\n",
       "    <tr>\n",
       "      <th>25167</th>\n",
       "      <td>2002-06-01</td>\n",
       "      <td>Uruguay</td>\n",
       "      <td>Denmark</td>\n",
       "      <td>1</td>\n",
       "      <td>2</td>\n",
       "      <td>FIFA World Cup</td>\n",
       "    </tr>\n",
       "    <tr>\n",
       "      <th>25168</th>\n",
       "      <td>2002-06-02</td>\n",
       "      <td>Argentina</td>\n",
       "      <td>Nigeria</td>\n",
       "      <td>1</td>\n",
       "      <td>0</td>\n",
       "      <td>FIFA World Cup</td>\n",
       "    </tr>\n",
       "    <tr>\n",
       "      <th>...</th>\n",
       "      <td>...</td>\n",
       "      <td>...</td>\n",
       "      <td>...</td>\n",
       "      <td>...</td>\n",
       "      <td>...</td>\n",
       "      <td>...</td>\n",
       "    </tr>\n",
       "    <tr>\n",
       "      <th>44343</th>\n",
       "      <td>2022-12-10</td>\n",
       "      <td>England</td>\n",
       "      <td>France</td>\n",
       "      <td>1</td>\n",
       "      <td>2</td>\n",
       "      <td>FIFA World Cup</td>\n",
       "    </tr>\n",
       "    <tr>\n",
       "      <th>44345</th>\n",
       "      <td>2022-12-13</td>\n",
       "      <td>Argentina</td>\n",
       "      <td>Croatia</td>\n",
       "      <td>3</td>\n",
       "      <td>0</td>\n",
       "      <td>FIFA World Cup</td>\n",
       "    </tr>\n",
       "    <tr>\n",
       "      <th>44346</th>\n",
       "      <td>2022-12-14</td>\n",
       "      <td>France</td>\n",
       "      <td>Morocco</td>\n",
       "      <td>2</td>\n",
       "      <td>0</td>\n",
       "      <td>FIFA World Cup</td>\n",
       "    </tr>\n",
       "    <tr>\n",
       "      <th>44350</th>\n",
       "      <td>2022-12-17</td>\n",
       "      <td>Croatia</td>\n",
       "      <td>Morocco</td>\n",
       "      <td>2</td>\n",
       "      <td>1</td>\n",
       "      <td>FIFA World Cup</td>\n",
       "    </tr>\n",
       "    <tr>\n",
       "      <th>44352</th>\n",
       "      <td>2022-12-18</td>\n",
       "      <td>Argentina</td>\n",
       "      <td>France</td>\n",
       "      <td>3</td>\n",
       "      <td>3</td>\n",
       "      <td>FIFA World Cup</td>\n",
       "    </tr>\n",
       "  </tbody>\n",
       "</table>\n",
       "<p>384 rows × 6 columns</p>\n",
       "</div>"
      ],
      "text/plain": [
       "            date            home_team     away_team  home_score  away_score  \\\n",
       "25164 2002-05-31               France       Senegal           0           1   \n",
       "25165 2002-06-01              Germany  Saudi Arabia           8           0   \n",
       "25166 2002-06-01  Republic of Ireland      Cameroon           1           1   \n",
       "25167 2002-06-01              Uruguay       Denmark           1           2   \n",
       "25168 2002-06-02            Argentina       Nigeria           1           0   \n",
       "...          ...                  ...           ...         ...         ...   \n",
       "44343 2022-12-10              England        France           1           2   \n",
       "44345 2022-12-13            Argentina       Croatia           3           0   \n",
       "44346 2022-12-14               France       Morocco           2           0   \n",
       "44350 2022-12-17              Croatia       Morocco           2           1   \n",
       "44352 2022-12-18            Argentina        France           3           3   \n",
       "\n",
       "           tournament  \n",
       "25164  FIFA World Cup  \n",
       "25165  FIFA World Cup  \n",
       "25166  FIFA World Cup  \n",
       "25167  FIFA World Cup  \n",
       "25168  FIFA World Cup  \n",
       "...               ...  \n",
       "44343  FIFA World Cup  \n",
       "44345  FIFA World Cup  \n",
       "44346  FIFA World Cup  \n",
       "44350  FIFA World Cup  \n",
       "44352  FIFA World Cup  \n",
       "\n",
       "[384 rows x 6 columns]"
      ]
     },
     "execution_count": 8,
     "metadata": {},
     "output_type": "execute_result"
    }
   ],
   "source": [
    "# Filtering for FIFA World Cup matches\n",
    "\n",
    "# Men's matches\n",
    "men_wc = men_results[(men_results['tournament'] == 'FIFA World Cup') & (men_results['date'] > '2002-01-01')]\n",
    "\n",
    "# View dataframe\n",
    "men_wc"
   ]
  },
  {
   "cell_type": "code",
   "execution_count": 9,
   "id": "b15c138a-587b-479b-a666-00a4725de46b",
   "metadata": {
    "executionCancelledAt": null,
    "executionTime": 55,
    "lastExecutedAt": 1702557453781,
    "lastScheduledRunId": null,
    "lastSuccessfullyExecutedCode": "# Filtering for FIFA World Cup matches\n\n# Women's matches\nwomen_wc = women_results[(women_results['tournament'] == 'FIFA World Cup') & (women_results['date'] > '2002-01-01')]\n\n# View dataframe\nwomen_wc",
    "outputsMetadata": {
     "0": {
      "height": 320,
      "type": "dataFrame"
     }
    }
   },
   "outputs": [
    {
     "data": {
      "text/html": [
       "<div>\n",
       "<style scoped>\n",
       "    .dataframe tbody tr th:only-of-type {\n",
       "        vertical-align: middle;\n",
       "    }\n",
       "\n",
       "    .dataframe tbody tr th {\n",
       "        vertical-align: top;\n",
       "    }\n",
       "\n",
       "    .dataframe thead th {\n",
       "        text-align: right;\n",
       "    }\n",
       "</style>\n",
       "<table border=\"1\" class=\"dataframe\">\n",
       "  <thead>\n",
       "    <tr style=\"text-align: right;\">\n",
       "      <th></th>\n",
       "      <th>date</th>\n",
       "      <th>home_team</th>\n",
       "      <th>away_team</th>\n",
       "      <th>home_score</th>\n",
       "      <th>away_score</th>\n",
       "      <th>tournament</th>\n",
       "    </tr>\n",
       "  </thead>\n",
       "  <tbody>\n",
       "    <tr>\n",
       "      <th>1600</th>\n",
       "      <td>2003-09-20</td>\n",
       "      <td>Nigeria</td>\n",
       "      <td>North Korea</td>\n",
       "      <td>0</td>\n",
       "      <td>3</td>\n",
       "      <td>FIFA World Cup</td>\n",
       "    </tr>\n",
       "    <tr>\n",
       "      <th>1601</th>\n",
       "      <td>2003-09-20</td>\n",
       "      <td>Norway</td>\n",
       "      <td>France</td>\n",
       "      <td>2</td>\n",
       "      <td>0</td>\n",
       "      <td>FIFA World Cup</td>\n",
       "    </tr>\n",
       "    <tr>\n",
       "      <th>1602</th>\n",
       "      <td>2003-09-20</td>\n",
       "      <td>Germany</td>\n",
       "      <td>Canada</td>\n",
       "      <td>4</td>\n",
       "      <td>1</td>\n",
       "      <td>FIFA World Cup</td>\n",
       "    </tr>\n",
       "    <tr>\n",
       "      <th>1603</th>\n",
       "      <td>2003-09-20</td>\n",
       "      <td>Japan</td>\n",
       "      <td>Argentina</td>\n",
       "      <td>6</td>\n",
       "      <td>0</td>\n",
       "      <td>FIFA World Cup</td>\n",
       "    </tr>\n",
       "    <tr>\n",
       "      <th>1604</th>\n",
       "      <td>2003-09-21</td>\n",
       "      <td>United States</td>\n",
       "      <td>Sweden</td>\n",
       "      <td>3</td>\n",
       "      <td>1</td>\n",
       "      <td>FIFA World Cup</td>\n",
       "    </tr>\n",
       "    <tr>\n",
       "      <th>...</th>\n",
       "      <td>...</td>\n",
       "      <td>...</td>\n",
       "      <td>...</td>\n",
       "      <td>...</td>\n",
       "      <td>...</td>\n",
       "      <td>...</td>\n",
       "    </tr>\n",
       "    <tr>\n",
       "      <th>4465</th>\n",
       "      <td>2019-06-29</td>\n",
       "      <td>Germany</td>\n",
       "      <td>Sweden</td>\n",
       "      <td>1</td>\n",
       "      <td>2</td>\n",
       "      <td>FIFA World Cup</td>\n",
       "    </tr>\n",
       "    <tr>\n",
       "      <th>4466</th>\n",
       "      <td>2019-07-02</td>\n",
       "      <td>England</td>\n",
       "      <td>United States</td>\n",
       "      <td>1</td>\n",
       "      <td>2</td>\n",
       "      <td>FIFA World Cup</td>\n",
       "    </tr>\n",
       "    <tr>\n",
       "      <th>4467</th>\n",
       "      <td>2019-07-03</td>\n",
       "      <td>Netherlands</td>\n",
       "      <td>Sweden</td>\n",
       "      <td>1</td>\n",
       "      <td>0</td>\n",
       "      <td>FIFA World Cup</td>\n",
       "    </tr>\n",
       "    <tr>\n",
       "      <th>4468</th>\n",
       "      <td>2019-07-06</td>\n",
       "      <td>England</td>\n",
       "      <td>Sweden</td>\n",
       "      <td>1</td>\n",
       "      <td>2</td>\n",
       "      <td>FIFA World Cup</td>\n",
       "    </tr>\n",
       "    <tr>\n",
       "      <th>4469</th>\n",
       "      <td>2019-07-07</td>\n",
       "      <td>United States</td>\n",
       "      <td>Netherlands</td>\n",
       "      <td>2</td>\n",
       "      <td>0</td>\n",
       "      <td>FIFA World Cup</td>\n",
       "    </tr>\n",
       "  </tbody>\n",
       "</table>\n",
       "<p>200 rows × 6 columns</p>\n",
       "</div>"
      ],
      "text/plain": [
       "           date      home_team      away_team  home_score  away_score  \\\n",
       "1600 2003-09-20        Nigeria    North Korea           0           3   \n",
       "1601 2003-09-20         Norway         France           2           0   \n",
       "1602 2003-09-20        Germany         Canada           4           1   \n",
       "1603 2003-09-20          Japan      Argentina           6           0   \n",
       "1604 2003-09-21  United States         Sweden           3           1   \n",
       "...         ...            ...            ...         ...         ...   \n",
       "4465 2019-06-29        Germany         Sweden           1           2   \n",
       "4466 2019-07-02        England  United States           1           2   \n",
       "4467 2019-07-03    Netherlands         Sweden           1           0   \n",
       "4468 2019-07-06        England         Sweden           1           2   \n",
       "4469 2019-07-07  United States    Netherlands           2           0   \n",
       "\n",
       "          tournament  \n",
       "1600  FIFA World Cup  \n",
       "1601  FIFA World Cup  \n",
       "1602  FIFA World Cup  \n",
       "1603  FIFA World Cup  \n",
       "1604  FIFA World Cup  \n",
       "...              ...  \n",
       "4465  FIFA World Cup  \n",
       "4466  FIFA World Cup  \n",
       "4467  FIFA World Cup  \n",
       "4468  FIFA World Cup  \n",
       "4469  FIFA World Cup  \n",
       "\n",
       "[200 rows x 6 columns]"
      ]
     },
     "execution_count": 9,
     "metadata": {},
     "output_type": "execute_result"
    }
   ],
   "source": [
    "# Filtering for FIFA World Cup matches\n",
    "\n",
    "# Women's matches\n",
    "women_wc = women_results[(women_results['tournament'] == 'FIFA World Cup') & (women_results['date'] > '2002-01-01')]\n",
    "\n",
    "# View dataframe\n",
    "women_wc"
   ]
  },
  {
   "cell_type": "markdown",
   "id": "14d6fb0f-b470-450c-8ff6-2d43eee52091",
   "metadata": {},
   "source": [
    "## Choosing the correct hypothesis test"
   ]
  },
  {
   "cell_type": "markdown",
   "id": "f266f95e-21b5-4ba7-a159-35a6350d1a46",
   "metadata": {},
   "source": [
    "Because there are two independent groups, men's and women's, this scenario requires an unpaired two-sample test.\n",
    "\n",
    "An **unpaired t-test** and a **Wilcoxon-Mann-Whitney test** are the two most commmon two-sample tests, where the latter is a non-parametric version of the unpaired t-test.\n",
    "\n",
    "Determine if a parametric or non-parametric test is appropriate by verifying the underlying assumptions of parametric tests--that is checking the sample size in each group and the normality of each distribution."
   ]
  },
  {
   "cell_type": "code",
   "execution_count": 10,
   "id": "fca8be20-968e-40d5-9626-9f1072746fc4",
   "metadata": {
    "executionCancelledAt": null,
    "executionTime": 220,
    "lastExecutedAt": 1702557454001,
    "lastScheduledRunId": null,
    "lastSuccessfullyExecutedCode": "# Import seaborn\nimport matplotlib.pyplot as plt\nimport seaborn as sns\n\n# Distribution of the number of goals scored in men's and women's matches\nmen_scores = men_wc['home_score'] + men_wc['away_score']\nwomen_scores = women_wc['home_score'] + women_wc['away_score']\n\nsns.histplot(men_scores, color='skyblue', element='step', bins=10, label='Men')\nsns.histplot(women_scores, color='pink', element='step', bins=10, label='Women')\n\nplt.title('Distribution of Men and Women Scores')\nplt.xlabel('Total Scores')\nplt.ylabel('Frequency')\nplt.legend();"
   },
   "outputs": [
    {
     "data": {
      "image/png": "[encoded data removed]",
      "text/plain": [
       "<Figure size 640x480 with 1 Axes>"
      ]
     },
     "metadata": {},
     "output_type": "display_data"
    }
   ],
   "source": [
    "# Import seaborn\n",
    "import matplotlib.pyplot as plt\n",
    "import seaborn as sns\n",
    "\n",
    "# Distribution of the number of goals scored in men's and women's matches\n",
    "men_scores = men_wc['home_score'] + men_wc['away_score']\n",
    "women_scores = women_wc['home_score'] + women_wc['away_score']\n",
    "\n",
    "sns.histplot(men_scores, color='skyblue', element='step', bins=10, label='Men')\n",
    "sns.histplot(women_scores, color='pink', element='step', bins=10, label='Women')\n",
    "\n",
    "plt.title('Distribution of Men and Women Scores')\n",
    "plt.xlabel('Total Scores')\n",
    "plt.ylabel('Frequency')\n",
    "plt.legend();"
   ]
  },
  {
   "cell_type": "markdown",
   "id": "41bd9c6e-9424-480a-b574-3e7e4797f17e",
   "metadata": {},
   "source": [
    "Looks like distribution of scores is longer on the right side (right-skewed) of its peak for both men and women. Visually, both distributions are not normally distributed and a non-parametric test is suitable to use.\n",
    "\n",
    "Since the data is not normally distributed (as indicated by the histogram), a non-parametric test is opted. The **Wilcoxon-Mann-Whitney test** is a non-parametric test used to compare two independent groups when the assumption of normality is violated."
   ]
  },
  {
   "cell_type": "markdown",
   "id": "adcecbfe-1f81-4e4f-ba08-91fd0f2c514c",
   "metadata": {},
   "source": [
    "## Performing the hypothesis test"
   ]
  },
  {
   "cell_type": "code",
   "execution_count": 11,
   "id": "7dca625b-caee-4c2c-889d-4c0a3e65730b",
   "metadata": {
    "executionCancelledAt": null,
    "executionTime": 55,
    "lastExecutedAt": 1702557454057,
    "lastScheduledRunId": null,
    "lastSuccessfullyExecutedCode": "# Perform the Wilcoxon-Mann-Whitney test\nfrom scipy.stats import mannwhitneyu\n\nmwu_result = mannwhitneyu(x=women_scores, y=men_scores, alternative='greater')\n\n# Extract the p-value from the result\nmwu_pvalue = mwu_result.pvalue\n\n# Decide whether to reject null hypothesis or failed to reject null hypothesis\ndecision = ''\nalpha = 0.10\nif mwu_pvalue <= alpha:\n    decision = 'reject'\nelse:\n    decision = 'fail to reject'\n    \n\nresult_dict = {\"p_val\": mwu_pvalue, \"result\": decision}\n\nprint(result_dict)",
    "outputsMetadata": {
     "0": {
      "height": 37,
      "type": "stream"
     }
    }
   },
   "outputs": [
    {
     "name": "stdout",
     "output_type": "stream",
     "text": [
      "{'p_val': 0.005106609825443641, 'result': 'reject'}\n"
     ]
    }
   ],
   "source": [
    "# Perform the Wilcoxon-Mann-Whitney test\n",
    "from scipy.stats import mannwhitneyu\n",
    "\n",
    "mwu_result = mannwhitneyu(x=women_scores, y=men_scores, alternative='greater')\n",
    "\n",
    "# Extract the p-value from the result\n",
    "mwu_pvalue = mwu_result.pvalue\n",
    "\n",
    "# Decide whether to reject null hypothesis or failed to reject null hypothesis\n",
    "decision = ''\n",
    "alpha = 0.10\n",
    "if mwu_pvalue <= alpha:\n",
    "    decision = 'reject'\n",
    "else:\n",
    "    decision = 'fail to reject'\n",
    "    \n",
    "\n",
    "result_dict = {\"p_val\": mwu_pvalue, \"result\": decision}\n",
    "\n",
    "print(result_dict)"
   ]
  },
  {
   "cell_type": "markdown",
   "id": "f4565c0e-3a89-4bc0-afef-dfcfc27f0334",
   "metadata": {},
   "source": [
    "## Interpreting the Result"
   ]
  },
  {
   "cell_type": "markdown",
   "id": "9eb5c769-05a0-4a41-b609-aa474b7c6068",
   "metadata": {},
   "source": [
    "If the p-value from the Mann-Whitney U test is 0.0051 and the chosen significance level is 0.10, then the p-value is less than the significance level.\n",
    "\n",
    "Interpreting this result:\n",
    "\n",
    "- $H_0$ : The mean number of goals scored in women's international soccer matches is the same as men's.\n",
    "- $H_A$ : The mean number of goals scored in women's international soccer matches is greater than men's.\n",
    "\n",
    "In statistical hypothesis testing, this implies to reject the null hypothesis. This means that there is statistically significant evidence to suggest that the mean number of goals scored in women's international soccer matches is greater from men's at a 10% significance level.\n",
    "\n",
    "This suggests that the observed difference between the two groups is unlikely to have occurred by random chance alone. "
   ]
  }
 ],
 "metadata": {
  "colab": {
   "name": "Welcome to DataCamp Workspaces.ipynb",
   "provenance": []
  },
  "kernelspec": {
   "display_name": "Python 3 (ipykernel)",
   "language": "python",
   "name": "python3"
  },
  "language_info": {
   "codemirror_mode": {
    "name": "ipython",
    "version": 3
   },
   "file_extension": ".py",
   "mimetype": "text/x-python",
   "name": "python",
   "nbconvert_exporter": "python",
   "pygments_lexer": "ipython3",
   "version": "3.11.5"
  }
 },
 "nbformat": 4,
 "nbformat_minor": 5
}
